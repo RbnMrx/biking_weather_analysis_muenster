{
 "cells": [
  {
   "cell_type": "code",
   "execution_count": 1,
   "id": "0899b644",
   "metadata": {},
   "outputs": [],
   "source": [
    "import pandas as pd\n",
    "import numpy as np\n",
    "import matplotlib.pyplot as plt\n",
    "import glob\n",
    "import os\n",
    "from sklearn import datasets, linear_model"
   ]
  },
  {
   "cell_type": "markdown",
   "id": "a73762c5",
   "metadata": {},
   "source": [
    "First of all, we combine all CSV files from all stations to one dataframe."
   ]
  },
  {
   "cell_type": "code",
   "execution_count": 2,
   "id": "c2d0926b",
   "metadata": {},
   "outputs": [],
   "source": [
    "# create list of all stations\n",
    "stations = [\"100034978\", \"100031300\",\n",
    "            \"100034980\", \"100034982\", \"100053305\", \"100035541\",\n",
    "            \"100031297\", \"100034983\", \"100034981\"]\n",
    "#stations = [\"gartenstrasse\", \"hafenstrasse\",\n",
    "#            \"hammer_strasse\", \"huefferstrasse\", \"kanalpromenade\", \"neutor\",\n",
    "#            \"promenade\", \"warendorfer_strasse\", \"weseler_strasse\"]"
   ]
  },
  {
   "cell_type": "code",
   "execution_count": 3,
   "id": "42100cd2",
   "metadata": {},
   "outputs": [],
   "source": [
    "# setting the path for joining multiple files from the first station\n",
    "files = os.path.join(\"data/radverkehr-zaehlstellen/\"+ stations[0] +\"/\", \"20*.csv\")"
   ]
  },
  {
   "cell_type": "code",
   "execution_count": 4,
   "id": "af3a9921",
   "metadata": {},
   "outputs": [],
   "source": [
    "# list of merged files returned\n",
    "files = glob.glob(files)"
   ]
  },
  {
   "cell_type": "code",
   "execution_count": 5,
   "id": "f3e9357f",
   "metadata": {},
   "outputs": [],
   "source": [
    "# joining files with concat and read_csv\n",
    "df = pd.concat(map(pd.read_csv, files), ignore_index=True)"
   ]
  },
  {
   "cell_type": "code",
   "execution_count": 6,
   "id": "d8300a1b",
   "metadata": {},
   "outputs": [],
   "source": [
    "# drop \"status\"-columns\n",
    "df = df.drop(df.columns[[2,3,4,5,6]], axis=1)"
   ]
  },
  {
   "cell_type": "code",
   "execution_count": 7,
   "id": "5953c0d9",
   "metadata": {},
   "outputs": [],
   "source": [
    "# delete first station from list\n",
    "del stations[0]"
   ]
  },
  {
   "cell_type": "code",
   "execution_count": 8,
   "id": "23dd8b85",
   "metadata": {},
   "outputs": [],
   "source": [
    "# join all stations by loop\n",
    "for e in stations:\n",
    "# get next file\n",
    "    files1 = os.path.join(\"data/radverkehr-zaehlstellen/\"+ e +\"/\", \"20*.csv\")\n",
    "    files1 = glob.glob(files1)\n",
    "    df1 = pd.concat(map(pd.read_csv, files1), ignore_index=True)\n",
    "    df1 = df1.iloc[:,[0,1]]\n",
    "# merge dataframes\n",
    "    df = pd.merge(df, df1, on=\"Datetime\",how='outer')"
   ]
  },
  {
   "cell_type": "code",
   "execution_count": 9,
   "id": "f31fdc4b",
   "metadata": {},
   "outputs": [
    {
     "data": {
      "text/html": [
       "<div>\n",
       "<style scoped>\n",
       "    .dataframe tbody tr th:only-of-type {\n",
       "        vertical-align: middle;\n",
       "    }\n",
       "\n",
       "    .dataframe tbody tr th {\n",
       "        vertical-align: top;\n",
       "    }\n",
       "\n",
       "    .dataframe thead th {\n",
       "        text-align: right;\n",
       "    }\n",
       "</style>\n",
       "<table border=\"1\" class=\"dataframe\">\n",
       "  <thead>\n",
       "    <tr style=\"text-align: right;\">\n",
       "      <th></th>\n",
       "      <th>Datetime</th>\n",
       "      <th>100034978 (Gartenstraße)</th>\n",
       "      <th>100031300 (Hafenstraße)</th>\n",
       "      <th>100034980 (Hammer Straße)</th>\n",
       "      <th>100034982 (Hüfferstraße)</th>\n",
       "      <th>100053305 (Kanalpromenade)</th>\n",
       "      <th>100035541 (Neutor)</th>\n",
       "      <th>100031297 (Promenade)</th>\n",
       "      <th>100034983 (Warendorfer Straße)</th>\n",
       "      <th>100034981 (Weseler Straße)</th>\n",
       "    </tr>\n",
       "  </thead>\n",
       "  <tbody>\n",
       "    <tr>\n",
       "      <th>0</th>\n",
       "      <td>2019-01-01 00:00</td>\n",
       "      <td>1</td>\n",
       "      <td>NaN</td>\n",
       "      <td>0</td>\n",
       "      <td>0</td>\n",
       "      <td>NaN</td>\n",
       "      <td>9.0</td>\n",
       "      <td>3.0</td>\n",
       "      <td>1</td>\n",
       "      <td>0</td>\n",
       "    </tr>\n",
       "    <tr>\n",
       "      <th>1</th>\n",
       "      <td>2019-01-01 00:15</td>\n",
       "      <td>9</td>\n",
       "      <td>NaN</td>\n",
       "      <td>8</td>\n",
       "      <td>6</td>\n",
       "      <td>NaN</td>\n",
       "      <td>6.0</td>\n",
       "      <td>22.0</td>\n",
       "      <td>8</td>\n",
       "      <td>5</td>\n",
       "    </tr>\n",
       "    <tr>\n",
       "      <th>2</th>\n",
       "      <td>2019-01-01 00:30</td>\n",
       "      <td>12</td>\n",
       "      <td>NaN</td>\n",
       "      <td>30</td>\n",
       "      <td>16</td>\n",
       "      <td>NaN</td>\n",
       "      <td>17.0</td>\n",
       "      <td>37.0</td>\n",
       "      <td>16</td>\n",
       "      <td>11</td>\n",
       "    </tr>\n",
       "    <tr>\n",
       "      <th>3</th>\n",
       "      <td>2019-01-01 00:45</td>\n",
       "      <td>8</td>\n",
       "      <td>NaN</td>\n",
       "      <td>18</td>\n",
       "      <td>16</td>\n",
       "      <td>NaN</td>\n",
       "      <td>56.0</td>\n",
       "      <td>47.0</td>\n",
       "      <td>21</td>\n",
       "      <td>6</td>\n",
       "    </tr>\n",
       "    <tr>\n",
       "      <th>4</th>\n",
       "      <td>2019-01-01 01:00</td>\n",
       "      <td>11</td>\n",
       "      <td>NaN</td>\n",
       "      <td>18</td>\n",
       "      <td>18</td>\n",
       "      <td>NaN</td>\n",
       "      <td>54.0</td>\n",
       "      <td>49.0</td>\n",
       "      <td>21</td>\n",
       "      <td>10</td>\n",
       "    </tr>\n",
       "  </tbody>\n",
       "</table>\n",
       "</div>"
      ],
      "text/plain": [
       "           Datetime  100034978 (Gartenstraße)  100031300 (Hafenstraße)  \\\n",
       "0  2019-01-01 00:00                         1                      NaN   \n",
       "1  2019-01-01 00:15                         9                      NaN   \n",
       "2  2019-01-01 00:30                        12                      NaN   \n",
       "3  2019-01-01 00:45                         8                      NaN   \n",
       "4  2019-01-01 01:00                        11                      NaN   \n",
       "\n",
       "   100034980 (Hammer Straße)  100034982 (Hüfferstraße)  \\\n",
       "0                          0                         0   \n",
       "1                          8                         6   \n",
       "2                         30                        16   \n",
       "3                         18                        16   \n",
       "4                         18                        18   \n",
       "\n",
       "   100053305 (Kanalpromenade)  100035541 (Neutor)  100031297 (Promenade)  \\\n",
       "0                         NaN                 9.0                    3.0   \n",
       "1                         NaN                 6.0                   22.0   \n",
       "2                         NaN                17.0                   37.0   \n",
       "3                         NaN                56.0                   47.0   \n",
       "4                         NaN                54.0                   49.0   \n",
       "\n",
       "   100034983 (Warendorfer Straße)  100034981 (Weseler Straße)  \n",
       "0                               1                           0  \n",
       "1                               8                           5  \n",
       "2                              16                          11  \n",
       "3                              21                           6  \n",
       "4                              21                          10  "
      ]
     },
     "execution_count": 9,
     "metadata": {},
     "output_type": "execute_result"
    }
   ],
   "source": [
    "df.head()"
   ]
  },
  {
   "cell_type": "markdown",
   "id": "2f3dc12c",
   "metadata": {},
   "source": [
    "The next step is to group all rows by date, to get the daily amount of counted bikes."
   ]
  },
  {
   "cell_type": "code",
   "execution_count": 10,
   "id": "c2059b03",
   "metadata": {},
   "outputs": [],
   "source": [
    "# convert \"Datetime\" to datetime\n",
    "df['Datetime'] = pd.to_datetime(df['Datetime'])"
   ]
  },
  {
   "cell_type": "code",
   "execution_count": 11,
   "id": "cd34586b",
   "metadata": {},
   "outputs": [],
   "source": [
    "# split datetime into new_date and new_time\n",
    "df['new_date'] = [d.date() for d in df['Datetime']]\n",
    "df['new_time'] = [d.time() for d in df['Datetime']]"
   ]
  },
  {
   "cell_type": "code",
   "execution_count": 12,
   "id": "e3cb2a6b",
   "metadata": {},
   "outputs": [],
   "source": [
    "# filter to new_date and combined traffic\n",
    "df = df.drop(['new_time', 'Datetime'], axis=1)\n",
    "df['new_date'] = pd.to_datetime(df['new_date'])\n",
    "#print(df)"
   ]
  },
  {
   "cell_type": "code",
   "execution_count": 13,
   "id": "32252c7b",
   "metadata": {},
   "outputs": [
    {
     "data": {
      "text/html": [
       "<div>\n",
       "<style scoped>\n",
       "    .dataframe tbody tr th:only-of-type {\n",
       "        vertical-align: middle;\n",
       "    }\n",
       "\n",
       "    .dataframe tbody tr th {\n",
       "        vertical-align: top;\n",
       "    }\n",
       "\n",
       "    .dataframe thead th {\n",
       "        text-align: right;\n",
       "    }\n",
       "</style>\n",
       "<table border=\"1\" class=\"dataframe\">\n",
       "  <thead>\n",
       "    <tr style=\"text-align: right;\">\n",
       "      <th></th>\n",
       "      <th>new_date</th>\n",
       "      <th>100034978 (Gartenstraße)</th>\n",
       "      <th>100031300 (Hafenstraße)</th>\n",
       "      <th>100034980 (Hammer Straße)</th>\n",
       "      <th>100034982 (Hüfferstraße)</th>\n",
       "      <th>100053305 (Kanalpromenade)</th>\n",
       "      <th>100035541 (Neutor)</th>\n",
       "      <th>100031297 (Promenade)</th>\n",
       "      <th>100034983 (Warendorfer Straße)</th>\n",
       "      <th>100034981 (Weseler Straße)</th>\n",
       "    </tr>\n",
       "  </thead>\n",
       "  <tbody>\n",
       "    <tr>\n",
       "      <th>0</th>\n",
       "      <td>2019-01-01</td>\n",
       "      <td>601</td>\n",
       "      <td>0.0</td>\n",
       "      <td>1731</td>\n",
       "      <td>858</td>\n",
       "      <td>0.0</td>\n",
       "      <td>2710.0</td>\n",
       "      <td>3304.0</td>\n",
       "      <td>1195</td>\n",
       "      <td>716</td>\n",
       "    </tr>\n",
       "    <tr>\n",
       "      <th>1</th>\n",
       "      <td>2019-01-02</td>\n",
       "      <td>2016</td>\n",
       "      <td>0.0</td>\n",
       "      <td>6308</td>\n",
       "      <td>3496</td>\n",
       "      <td>0.0</td>\n",
       "      <td>5930.0</td>\n",
       "      <td>10038.0</td>\n",
       "      <td>5407</td>\n",
       "      <td>2208</td>\n",
       "    </tr>\n",
       "    <tr>\n",
       "      <th>2</th>\n",
       "      <td>2019-01-03</td>\n",
       "      <td>2018</td>\n",
       "      <td>0.0</td>\n",
       "      <td>5877</td>\n",
       "      <td>3184</td>\n",
       "      <td>0.0</td>\n",
       "      <td>5948.0</td>\n",
       "      <td>10056.0</td>\n",
       "      <td>5086</td>\n",
       "      <td>2234</td>\n",
       "    </tr>\n",
       "    <tr>\n",
       "      <th>3</th>\n",
       "      <td>2019-01-04</td>\n",
       "      <td>1854</td>\n",
       "      <td>0.0</td>\n",
       "      <td>5989</td>\n",
       "      <td>3220</td>\n",
       "      <td>0.0</td>\n",
       "      <td>6223.0</td>\n",
       "      <td>9743.0</td>\n",
       "      <td>4965</td>\n",
       "      <td>2249</td>\n",
       "    </tr>\n",
       "    <tr>\n",
       "      <th>4</th>\n",
       "      <td>2019-01-05</td>\n",
       "      <td>1370</td>\n",
       "      <td>0.0</td>\n",
       "      <td>4671</td>\n",
       "      <td>2058</td>\n",
       "      <td>0.0</td>\n",
       "      <td>4724.0</td>\n",
       "      <td>6855.0</td>\n",
       "      <td>4117</td>\n",
       "      <td>1346</td>\n",
       "    </tr>\n",
       "  </tbody>\n",
       "</table>\n",
       "</div>"
      ],
      "text/plain": [
       "    new_date  100034978 (Gartenstraße)  100031300 (Hafenstraße)  \\\n",
       "0 2019-01-01                       601                      0.0   \n",
       "1 2019-01-02                      2016                      0.0   \n",
       "2 2019-01-03                      2018                      0.0   \n",
       "3 2019-01-04                      1854                      0.0   \n",
       "4 2019-01-05                      1370                      0.0   \n",
       "\n",
       "   100034980 (Hammer Straße)  100034982 (Hüfferstraße)  \\\n",
       "0                       1731                       858   \n",
       "1                       6308                      3496   \n",
       "2                       5877                      3184   \n",
       "3                       5989                      3220   \n",
       "4                       4671                      2058   \n",
       "\n",
       "   100053305 (Kanalpromenade)  100035541 (Neutor)  100031297 (Promenade)  \\\n",
       "0                         0.0              2710.0                 3304.0   \n",
       "1                         0.0              5930.0                10038.0   \n",
       "2                         0.0              5948.0                10056.0   \n",
       "3                         0.0              6223.0                 9743.0   \n",
       "4                         0.0              4724.0                 6855.0   \n",
       "\n",
       "   100034983 (Warendorfer Straße)  100034981 (Weseler Straße)  \n",
       "0                            1195                         716  \n",
       "1                            5407                        2208  \n",
       "2                            5086                        2234  \n",
       "3                            4965                        2249  \n",
       "4                            4117                        1346  "
      ]
     },
     "execution_count": 13,
     "metadata": {},
     "output_type": "execute_result"
    }
   ],
   "source": [
    "# group by date\n",
    "df = df.groupby(['new_date'], as_index=False).sum()\n",
    "df.head()"
   ]
  },
  {
   "cell_type": "markdown",
   "id": "d264f274",
   "metadata": {},
   "source": [
    "After grouping by days, we import the weather data and add it to the dataframe."
   ]
  },
  {
   "cell_type": "code",
   "execution_count": 14,
   "id": "8118559a",
   "metadata": {},
   "outputs": [
    {
     "data": {
      "text/html": [
       "<div>\n",
       "<style scoped>\n",
       "    .dataframe tbody tr th:only-of-type {\n",
       "        vertical-align: middle;\n",
       "    }\n",
       "\n",
       "    .dataframe tbody tr th {\n",
       "        vertical-align: top;\n",
       "    }\n",
       "\n",
       "    .dataframe thead th {\n",
       "        text-align: right;\n",
       "    }\n",
       "</style>\n",
       "<table border=\"1\" class=\"dataframe\">\n",
       "  <thead>\n",
       "    <tr style=\"text-align: right;\">\n",
       "      <th></th>\n",
       "      <th>new_date</th>\n",
       "      <th>Rain/Snow in mm</th>\n",
       "      <th>Temperature</th>\n",
       "    </tr>\n",
       "  </thead>\n",
       "  <tbody>\n",
       "    <tr>\n",
       "      <th>0</th>\n",
       "      <td>1989-10-01</td>\n",
       "      <td>0.1</td>\n",
       "      <td>12.1</td>\n",
       "    </tr>\n",
       "    <tr>\n",
       "      <th>1</th>\n",
       "      <td>1989-10-02</td>\n",
       "      <td>0.3</td>\n",
       "      <td>12.4</td>\n",
       "    </tr>\n",
       "    <tr>\n",
       "      <th>2</th>\n",
       "      <td>1989-10-03</td>\n",
       "      <td>0.0</td>\n",
       "      <td>8.6</td>\n",
       "    </tr>\n",
       "    <tr>\n",
       "      <th>3</th>\n",
       "      <td>1989-10-04</td>\n",
       "      <td>0.0</td>\n",
       "      <td>6.2</td>\n",
       "    </tr>\n",
       "    <tr>\n",
       "      <th>4</th>\n",
       "      <td>1989-10-05</td>\n",
       "      <td>0.9</td>\n",
       "      <td>11.1</td>\n",
       "    </tr>\n",
       "  </tbody>\n",
       "</table>\n",
       "</div>"
      ],
      "text/plain": [
       "    new_date  Rain/Snow in mm  Temperature\n",
       "0 1989-10-01              0.1         12.1\n",
       "1 1989-10-02              0.3         12.4\n",
       "2 1989-10-03              0.0          8.6\n",
       "3 1989-10-04              0.0          6.2\n",
       "4 1989-10-05              0.9         11.1"
      ]
     },
     "execution_count": 14,
     "metadata": {},
     "output_type": "execute_result"
    }
   ],
   "source": [
    "#import climatedata\n",
    "df2 = pd.read_csv(r\"data\\klarchiv_01766_daily_his\\produkt_klima_tag_19820101_20211231_01766.csv\", sep=';')\n",
    "df5 = pd.read_csv(r\"data\\klarchiv_01766_daily_akt\\produkt_klima_tag_20210202_20220805_01766.csv\", sep=';')\n",
    "df2 = pd.concat([df2, df5], ignore_index=True)\n",
    "df2 = df2.drop([\"STATIONS_ID\", \"QN_3\"], axis=1)\n",
    "df2['MESS_DATUM'] = df2['MESS_DATUM'].astype(str)\n",
    "df2['MESS_DATUM'] = pd.to_datetime(df2.MESS_DATUM)\n",
    "df2.rename(columns ={'MESS_DATUM':'new_date'},inplace=True)\n",
    "df2 = df2.iloc[:,[0,4,11]]\n",
    "df2 = df2.rename(columns={' RSK': 'Rain/Snow in mm', ' TMK' : 'Temperature'})\n",
    "df2.head()"
   ]
  },
  {
   "cell_type": "code",
   "execution_count": 15,
   "id": "a7c3bedf",
   "metadata": {},
   "outputs": [
    {
     "data": {
      "text/html": [
       "<div>\n",
       "<style scoped>\n",
       "    .dataframe tbody tr th:only-of-type {\n",
       "        vertical-align: middle;\n",
       "    }\n",
       "\n",
       "    .dataframe tbody tr th {\n",
       "        vertical-align: top;\n",
       "    }\n",
       "\n",
       "    .dataframe thead th {\n",
       "        text-align: right;\n",
       "    }\n",
       "</style>\n",
       "<table border=\"1\" class=\"dataframe\">\n",
       "  <thead>\n",
       "    <tr style=\"text-align: right;\">\n",
       "      <th></th>\n",
       "      <th>new_date</th>\n",
       "      <th>100034978 (Gartenstraße)</th>\n",
       "      <th>100031300 (Hafenstraße)</th>\n",
       "      <th>100034980 (Hammer Straße)</th>\n",
       "      <th>100034982 (Hüfferstraße)</th>\n",
       "      <th>100053305 (Kanalpromenade)</th>\n",
       "      <th>100035541 (Neutor)</th>\n",
       "      <th>100031297 (Promenade)</th>\n",
       "      <th>100034983 (Warendorfer Straße)</th>\n",
       "      <th>100034981 (Weseler Straße)</th>\n",
       "      <th>Rain/Snow in mm</th>\n",
       "      <th>Temperature</th>\n",
       "      <th>sum</th>\n",
       "    </tr>\n",
       "  </thead>\n",
       "  <tbody>\n",
       "    <tr>\n",
       "      <th>0</th>\n",
       "      <td>2019-01-01</td>\n",
       "      <td>601</td>\n",
       "      <td>0.0</td>\n",
       "      <td>1731</td>\n",
       "      <td>858</td>\n",
       "      <td>0.0</td>\n",
       "      <td>2710.0</td>\n",
       "      <td>3304.0</td>\n",
       "      <td>1195</td>\n",
       "      <td>716</td>\n",
       "      <td>1.1</td>\n",
       "      <td>6.7</td>\n",
       "      <td>11115.0</td>\n",
       "    </tr>\n",
       "    <tr>\n",
       "      <th>1</th>\n",
       "      <td>2019-01-02</td>\n",
       "      <td>2016</td>\n",
       "      <td>0.0</td>\n",
       "      <td>6308</td>\n",
       "      <td>3496</td>\n",
       "      <td>0.0</td>\n",
       "      <td>5930.0</td>\n",
       "      <td>10038.0</td>\n",
       "      <td>5407</td>\n",
       "      <td>2208</td>\n",
       "      <td>0.0</td>\n",
       "      <td>3.6</td>\n",
       "      <td>35403.0</td>\n",
       "    </tr>\n",
       "    <tr>\n",
       "      <th>2</th>\n",
       "      <td>2019-01-03</td>\n",
       "      <td>2018</td>\n",
       "      <td>0.0</td>\n",
       "      <td>5877</td>\n",
       "      <td>3184</td>\n",
       "      <td>0.0</td>\n",
       "      <td>5948.0</td>\n",
       "      <td>10056.0</td>\n",
       "      <td>5086</td>\n",
       "      <td>2234</td>\n",
       "      <td>1.1</td>\n",
       "      <td>2.6</td>\n",
       "      <td>34403.0</td>\n",
       "    </tr>\n",
       "    <tr>\n",
       "      <th>3</th>\n",
       "      <td>2019-01-04</td>\n",
       "      <td>1854</td>\n",
       "      <td>0.0</td>\n",
       "      <td>5989</td>\n",
       "      <td>3220</td>\n",
       "      <td>0.0</td>\n",
       "      <td>6223.0</td>\n",
       "      <td>9743.0</td>\n",
       "      <td>4965</td>\n",
       "      <td>2249</td>\n",
       "      <td>1.6</td>\n",
       "      <td>2.9</td>\n",
       "      <td>34243.0</td>\n",
       "    </tr>\n",
       "    <tr>\n",
       "      <th>4</th>\n",
       "      <td>2019-01-05</td>\n",
       "      <td>1370</td>\n",
       "      <td>0.0</td>\n",
       "      <td>4671</td>\n",
       "      <td>2058</td>\n",
       "      <td>0.0</td>\n",
       "      <td>4724.0</td>\n",
       "      <td>6855.0</td>\n",
       "      <td>4117</td>\n",
       "      <td>1346</td>\n",
       "      <td>6.5</td>\n",
       "      <td>7.0</td>\n",
       "      <td>25141.0</td>\n",
       "    </tr>\n",
       "  </tbody>\n",
       "</table>\n",
       "</div>"
      ],
      "text/plain": [
       "    new_date  100034978 (Gartenstraße)  100031300 (Hafenstraße)  \\\n",
       "0 2019-01-01                       601                      0.0   \n",
       "1 2019-01-02                      2016                      0.0   \n",
       "2 2019-01-03                      2018                      0.0   \n",
       "3 2019-01-04                      1854                      0.0   \n",
       "4 2019-01-05                      1370                      0.0   \n",
       "\n",
       "   100034980 (Hammer Straße)  100034982 (Hüfferstraße)  \\\n",
       "0                       1731                       858   \n",
       "1                       6308                      3496   \n",
       "2                       5877                      3184   \n",
       "3                       5989                      3220   \n",
       "4                       4671                      2058   \n",
       "\n",
       "   100053305 (Kanalpromenade)  100035541 (Neutor)  100031297 (Promenade)  \\\n",
       "0                         0.0              2710.0                 3304.0   \n",
       "1                         0.0              5930.0                10038.0   \n",
       "2                         0.0              5948.0                10056.0   \n",
       "3                         0.0              6223.0                 9743.0   \n",
       "4                         0.0              4724.0                 6855.0   \n",
       "\n",
       "   100034983 (Warendorfer Straße)  100034981 (Weseler Straße)  \\\n",
       "0                            1195                         716   \n",
       "1                            5407                        2208   \n",
       "2                            5086                        2234   \n",
       "3                            4965                        2249   \n",
       "4                            4117                        1346   \n",
       "\n",
       "   Rain/Snow in mm  Temperature      sum  \n",
       "0              1.1          6.7  11115.0  \n",
       "1              0.0          3.6  35403.0  \n",
       "2              1.1          2.6  34403.0  \n",
       "3              1.6          2.9  34243.0  \n",
       "4              6.5          7.0  25141.0  "
      ]
     },
     "execution_count": 15,
     "metadata": {},
     "output_type": "execute_result"
    }
   ],
   "source": [
    "#merge bike and climate data and sum bikes\n",
    "df3 = pd.merge(df, df2, on=\"new_date\")\n",
    "df3['sum'] = df3.iloc[:,1:10].sum(axis=1)\n",
    "\n",
    "df3.head()"
   ]
  },
  {
   "cell_type": "markdown",
   "id": "dc21da46",
   "metadata": {},
   "source": [
    "We add a column with the rounded temperature for better visualization."
   ]
  },
  {
   "cell_type": "code",
   "execution_count": 16,
   "id": "31f26e31",
   "metadata": {},
   "outputs": [],
   "source": [
    "#add rounded temperature\n",
    "df3['roundup_temp'] = df3['Temperature'].apply(np.ceil)"
   ]
  },
  {
   "cell_type": "markdown",
   "id": "cf1f79e7",
   "metadata": {},
   "source": [
    "Filtering for the rounded temperature and the sum of bikes counted.\n",
    "A column with a 1 for every row(day) is added, to calculate the average later."
   ]
  },
  {
   "cell_type": "code",
   "execution_count": 17,
   "id": "cb423374",
   "metadata": {},
   "outputs": [
    {
     "data": {
      "text/html": [
       "<div>\n",
       "<style scoped>\n",
       "    .dataframe tbody tr th:only-of-type {\n",
       "        vertical-align: middle;\n",
       "    }\n",
       "\n",
       "    .dataframe tbody tr th {\n",
       "        vertical-align: top;\n",
       "    }\n",
       "\n",
       "    .dataframe thead th {\n",
       "        text-align: right;\n",
       "    }\n",
       "</style>\n",
       "<table border=\"1\" class=\"dataframe\">\n",
       "  <thead>\n",
       "    <tr style=\"text-align: right;\">\n",
       "      <th></th>\n",
       "      <th>roundup_temp</th>\n",
       "      <th>sum</th>\n",
       "      <th>number_of_days</th>\n",
       "    </tr>\n",
       "  </thead>\n",
       "  <tbody>\n",
       "    <tr>\n",
       "      <th>0</th>\n",
       "      <td>7.0</td>\n",
       "      <td>11115.0</td>\n",
       "      <td>1</td>\n",
       "    </tr>\n",
       "    <tr>\n",
       "      <th>1</th>\n",
       "      <td>4.0</td>\n",
       "      <td>35403.0</td>\n",
       "      <td>1</td>\n",
       "    </tr>\n",
       "    <tr>\n",
       "      <th>2</th>\n",
       "      <td>3.0</td>\n",
       "      <td>34403.0</td>\n",
       "      <td>1</td>\n",
       "    </tr>\n",
       "    <tr>\n",
       "      <th>3</th>\n",
       "      <td>3.0</td>\n",
       "      <td>34243.0</td>\n",
       "      <td>1</td>\n",
       "    </tr>\n",
       "    <tr>\n",
       "      <th>4</th>\n",
       "      <td>7.0</td>\n",
       "      <td>25141.0</td>\n",
       "      <td>1</td>\n",
       "    </tr>\n",
       "  </tbody>\n",
       "</table>\n",
       "</div>"
      ],
      "text/plain": [
       "   roundup_temp      sum  number_of_days\n",
       "0           7.0  11115.0               1\n",
       "1           4.0  35403.0               1\n",
       "2           3.0  34403.0               1\n",
       "3           3.0  34243.0               1\n",
       "4           7.0  25141.0               1"
      ]
     },
     "execution_count": 17,
     "metadata": {},
     "output_type": "execute_result"
    }
   ],
   "source": [
    "#filter rounded temperature, added '1' for every day\n",
    "df4 = df3.filter(['roundup_temp', 'sum'], axis=1)\n",
    "df4['number_of_days'] = 1\n",
    "df4.head()"
   ]
  },
  {
   "cell_type": "markdown",
   "id": "3cc0c86c",
   "metadata": {},
   "source": [
    "Grouping by the rounded temperature and calculating the average number of bikes per this temperature."
   ]
  },
  {
   "cell_type": "code",
   "execution_count": 18,
   "id": "2ba47cda",
   "metadata": {
    "scrolled": true
   },
   "outputs": [
    {
     "data": {
      "text/html": [
       "<div>\n",
       "<style scoped>\n",
       "    .dataframe tbody tr th:only-of-type {\n",
       "        vertical-align: middle;\n",
       "    }\n",
       "\n",
       "    .dataframe tbody tr th {\n",
       "        vertical-align: top;\n",
       "    }\n",
       "\n",
       "    .dataframe thead th {\n",
       "        text-align: right;\n",
       "    }\n",
       "</style>\n",
       "<table border=\"1\" class=\"dataframe\">\n",
       "  <thead>\n",
       "    <tr style=\"text-align: right;\">\n",
       "      <th></th>\n",
       "      <th>roundup_temp</th>\n",
       "      <th>sum</th>\n",
       "      <th>number_of_days</th>\n",
       "      <th>average_sum</th>\n",
       "    </tr>\n",
       "  </thead>\n",
       "  <tbody>\n",
       "    <tr>\n",
       "      <th>0</th>\n",
       "      <td>-10.0</td>\n",
       "      <td>3422.0</td>\n",
       "      <td>2</td>\n",
       "      <td>1711.000000</td>\n",
       "    </tr>\n",
       "    <tr>\n",
       "      <th>1</th>\n",
       "      <td>-8.0</td>\n",
       "      <td>21208.0</td>\n",
       "      <td>6</td>\n",
       "      <td>3534.666667</td>\n",
       "    </tr>\n",
       "    <tr>\n",
       "      <th>2</th>\n",
       "      <td>-7.0</td>\n",
       "      <td>8034.0</td>\n",
       "      <td>4</td>\n",
       "      <td>2008.500000</td>\n",
       "    </tr>\n",
       "    <tr>\n",
       "      <th>3</th>\n",
       "      <td>-5.0</td>\n",
       "      <td>53078.0</td>\n",
       "      <td>3</td>\n",
       "      <td>17692.666667</td>\n",
       "    </tr>\n",
       "    <tr>\n",
       "      <th>4</th>\n",
       "      <td>-4.0</td>\n",
       "      <td>60517.0</td>\n",
       "      <td>3</td>\n",
       "      <td>20172.333333</td>\n",
       "    </tr>\n",
       "  </tbody>\n",
       "</table>\n",
       "</div>"
      ],
      "text/plain": [
       "   roundup_temp      sum  number_of_days   average_sum\n",
       "0         -10.0   3422.0               2   1711.000000\n",
       "1          -8.0  21208.0               6   3534.666667\n",
       "2          -7.0   8034.0               4   2008.500000\n",
       "3          -5.0  53078.0               3  17692.666667\n",
       "4          -4.0  60517.0               3  20172.333333"
      ]
     },
     "execution_count": 18,
     "metadata": {},
     "output_type": "execute_result"
    }
   ],
   "source": [
    "#group by rounded temperature + sum bikes, calculate average bike per day\n",
    "df4 = df4.groupby(['roundup_temp'], as_index=False).sum()\n",
    "df4['average_sum'] = df4['sum'] / df4['number_of_days']\n",
    "pd.set_option('display.max_rows', None)\n",
    "df4.head()"
   ]
  },
  {
   "cell_type": "code",
   "execution_count": 19,
   "id": "5dbd21fa",
   "metadata": {
    "scrolled": true
   },
   "outputs": [
    {
     "data": {
      "text/plain": [
       "Text(0, 0.5, 'Bikes')"
      ]
     },
     "execution_count": 19,
     "metadata": {},
     "output_type": "execute_result"
    },
    {
     "data": {
      "image/png": "[encoded data removed]",
      "text/plain": [
       "<Figure size 1080x360 with 1 Axes>"
      ]
     },
     "metadata": {
      "needs_background": "light"
     },
     "output_type": "display_data"
    }
   ],
   "source": [
    "#plot it\n",
    "plt.rcParams[\"figure.figsize\"] = (15, 5)\n",
    "plt.plot(df4['roundup_temp'], df4['average_sum'])\n",
    "plt.title('Bikes per Temperature (complete)')\n",
    "plt.xlabel('Temperature')\n",
    "plt.ylabel('Bikes')"
   ]
  },
  {
   "cell_type": "markdown",
   "id": "29d7f58e",
   "metadata": {},
   "source": [
    "Improving the dataframe by filtering for temperatures with at least 8 days of data."
   ]
  },
  {
   "cell_type": "code",
   "execution_count": 20,
   "id": "a932e916",
   "metadata": {},
   "outputs": [
    {
     "data": {
      "text/html": [
       "<div>\n",
       "<style scoped>\n",
       "    .dataframe tbody tr th:only-of-type {\n",
       "        vertical-align: middle;\n",
       "    }\n",
       "\n",
       "    .dataframe tbody tr th {\n",
       "        vertical-align: top;\n",
       "    }\n",
       "\n",
       "    .dataframe thead th {\n",
       "        text-align: right;\n",
       "    }\n",
       "</style>\n",
       "<table border=\"1\" class=\"dataframe\">\n",
       "  <thead>\n",
       "    <tr style=\"text-align: right;\">\n",
       "      <th></th>\n",
       "      <th>roundup_temp</th>\n",
       "      <th>sum</th>\n",
       "      <th>number_of_days</th>\n",
       "      <th>average_sum</th>\n",
       "    </tr>\n",
       "  </thead>\n",
       "  <tbody>\n",
       "    <tr>\n",
       "      <th>8</th>\n",
       "      <td>-0.0</td>\n",
       "      <td>563656.0</td>\n",
       "      <td>15</td>\n",
       "      <td>37577.066667</td>\n",
       "    </tr>\n",
       "    <tr>\n",
       "      <th>9</th>\n",
       "      <td>1.0</td>\n",
       "      <td>905018.0</td>\n",
       "      <td>25</td>\n",
       "      <td>36200.720000</td>\n",
       "    </tr>\n",
       "    <tr>\n",
       "      <th>10</th>\n",
       "      <td>2.0</td>\n",
       "      <td>1320600.0</td>\n",
       "      <td>35</td>\n",
       "      <td>37731.428571</td>\n",
       "    </tr>\n",
       "    <tr>\n",
       "      <th>11</th>\n",
       "      <td>3.0</td>\n",
       "      <td>2304006.0</td>\n",
       "      <td>61</td>\n",
       "      <td>37770.590164</td>\n",
       "    </tr>\n",
       "    <tr>\n",
       "      <th>12</th>\n",
       "      <td>4.0</td>\n",
       "      <td>2654516.0</td>\n",
       "      <td>64</td>\n",
       "      <td>41476.812500</td>\n",
       "    </tr>\n",
       "  </tbody>\n",
       "</table>\n",
       "</div>"
      ],
      "text/plain": [
       "    roundup_temp        sum  number_of_days   average_sum\n",
       "8           -0.0   563656.0              15  37577.066667\n",
       "9            1.0   905018.0              25  36200.720000\n",
       "10           2.0  1320600.0              35  37731.428571\n",
       "11           3.0  2304006.0              61  37770.590164\n",
       "12           4.0  2654516.0              64  41476.812500"
      ]
     },
     "execution_count": 20,
     "metadata": {},
     "output_type": "execute_result"
    }
   ],
   "source": [
    "#filter on number of days >= 8\n",
    "df4 = df4[df4[\"number_of_days\"] >= 8]\n",
    "df4.head()"
   ]
  },
  {
   "cell_type": "code",
   "execution_count": 21,
   "id": "9f316e8a",
   "metadata": {},
   "outputs": [
    {
     "data": {
      "text/plain": [
       "Text(0, 0.5, 'Bikes')"
      ]
     },
     "execution_count": 21,
     "metadata": {},
     "output_type": "execute_result"
    },
    {
     "data": {
      "image/png": "[encoded data removed]",
      "text/plain": [
       "<Figure size 1080x360 with 1 Axes>"
      ]
     },
     "metadata": {
      "needs_background": "light"
     },
     "output_type": "display_data"
    }
   ],
   "source": [
    "#plot it\n",
    "plt.rcParams[\"figure.figsize\"] = (15, 5)\n",
    "plt.plot(df4['roundup_temp'], df4['average_sum'])\n",
    "plt.title('Bikes per Temperature (Temperatures with at least 8 days of data)')\n",
    "plt.xlabel('Temperature')\n",
    "plt.ylabel('Bikes')"
   ]
  },
  {
   "cell_type": "markdown",
   "id": "90ae182c",
   "metadata": {},
   "source": [
    "Calculating a forecast with linear regression. "
   ]
  },
  {
   "cell_type": "code",
   "execution_count": 22,
   "id": "fb003ebc",
   "metadata": {},
   "outputs": [],
   "source": [
    "#setting x and y for linear regression\n",
    "x = df4.roundup_temp.values\n",
    "y = df4.average_sum.values"
   ]
  },
  {
   "cell_type": "code",
   "execution_count": 23,
   "id": "1d3c3a5b",
   "metadata": {},
   "outputs": [],
   "source": [
    "#reshape for linear regression\n",
    "x = x.reshape(-1, 1)\n",
    "y = y.reshape(-1, 1)"
   ]
  },
  {
   "cell_type": "code",
   "execution_count": 24,
   "id": "f8c1c025",
   "metadata": {},
   "outputs": [
    {
     "data": {
      "text/plain": [
       "LinearRegression()"
      ]
     },
     "execution_count": 24,
     "metadata": {},
     "output_type": "execute_result"
    }
   ],
   "source": [
    "#fitting linear regression\n",
    "regr = linear_model.LinearRegression()\n",
    "regr.fit(x, y)"
   ]
  },
  {
   "cell_type": "code",
   "execution_count": 25,
   "id": "bb60dbdc",
   "metadata": {
    "scrolled": true
   },
   "outputs": [
    {
     "data": {
      "image/png": "[encoded data removed]",
      "text/plain": [
       "<Figure size 1080x360 with 1 Axes>"
      ]
     },
     "metadata": {
      "needs_background": "light"
     },
     "output_type": "display_data"
    }
   ],
   "source": [
    "#plot it\n",
    "plt.scatter(df4['roundup_temp'], df4['average_sum'],  color='black')\n",
    "plt.plot(x, regr.predict(x), color='blue', linewidth=3)\n",
    "plt.title('Bikes per Temperature Forecast')\n",
    "plt.xlabel('Temperature')\n",
    "plt.ylabel('Bikes')\n",
    "plt.show()"
   ]
  },
  {
   "cell_type": "code",
   "execution_count": 26,
   "id": "48d71bf5",
   "metadata": {},
   "outputs": [
    {
     "name": "stdout",
     "output_type": "stream",
     "text": [
      "[37236.70079214] [[956.47274422]] 0.8627421555043048\n"
     ]
    }
   ],
   "source": [
    "#get intercept, coefficient and score\n",
    "print(regr.intercept_, regr.coef_, regr.score(x, y))"
   ]
  },
  {
   "cell_type": "markdown",
   "id": "615321cf",
   "metadata": {},
   "source": [
    "The last graph shows the forecast for bikes counted per temperature in Münster. \n",
    "\n",
    "The equation for this is: Bikes = 956.47274422 * Temperature + 37236.70079214\n",
    "\n",
    "The data ranges from the 01.01.2019 to the 05.08.2022. It is not fully complete, because of malfunctions of the stations or road construction sites. \n",
    "\n",
    "The data is based on the bike counting stations in Münster, provided by \"Open Data Münster\" and the weather data from the weatherstation \"Münster/Osnabrück\" provided by the \"DWD\" (Deutscher Wetterdienst)."
   ]
  }
 ],
 "metadata": {
  "kernelspec": {
   "display_name": "Python 3 (ipykernel)",
   "language": "python",
   "name": "python3"
  },
  "language_info": {
   "codemirror_mode": {
    "name": "ipython",
    "version": 3
   },
   "file_extension": ".py",
   "mimetype": "text/x-python",
   "name": "python",
   "nbconvert_exporter": "python",
   "pygments_lexer": "ipython3",
   "version": "3.9.12"
  }
 },
 "nbformat": 4,
 "nbformat_minor": 5
}
